{
 "cells": [
  {
   "cell_type": "code",
   "execution_count": 7,
   "metadata": {},
   "outputs": [],
   "source": [
    "import numpy as np\n",
    "from collections import Counter\n",
    "import pandas as pd"
   ]
  },
  {
   "cell_type": "code",
   "execution_count": 13,
   "metadata": {},
   "outputs": [
    {
     "name": "stdout",
     "output_type": "stream",
     "text": [
      "['fdgacbe', 'cefdb', 'cefbgd', 'gcbe', 'fcgedb', 'cgb', 'dgebacf', 'gc', 'cg', 'cg', 'fdcagb', 'cbg', 'efabcd', 'cedba', 'gadfec', 'cb', 'gecf', 'egdcabf', 'bgf', 'bfgea', 'gebdcfa', 'ecba', 'ca', 'fadegcb', 'cefg', 'dcbef', 'fcge', 'gbcadfe', 'ed', 'bcgafe', 'cdgba', 'cbgef', 'gbdfcae', 'bgc', 'cg', 'cgb', 'fgae', 'cfgab', 'fg', 'bagce']\n",
      "26\n"
     ]
    }
   ],
   "source": [
    "with open(\"08/test.txt\") as f:\n",
    "    results = []\n",
    "    for line in f:\n",
    "        parts = line.split('|')\n",
    "        results += [x for x in parts[1][:-1].strip().split(' ')]\n",
    "print(results)\n",
    "lengths = [len(l) for l in results]\n",
    "c = Counter(lengths)\n",
    "print(c[2] + c[3] + c[4] + c[7])"
   ]
  },
  {
   "cell_type": "code",
   "execution_count": 15,
   "metadata": {},
   "outputs": [
    {
     "name": "stdout",
     "output_type": "stream",
     "text": [
      "512\n"
     ]
    }
   ],
   "source": [
    "with open(\"08/input.txt\") as f:\n",
    "    results = []\n",
    "    for line in f:\n",
    "        parts = line.split('|')\n",
    "        results += [x for x in parts[1][:-1].strip().split(' ')]\n",
    "lengths = [len(l) for l in results]\n",
    "c = Counter(lengths)\n",
    "print(c[2] + c[3] + c[4] + c[7])"
   ]
  },
  {
   "cell_type": "code",
   "execution_count": 45,
   "metadata": {},
   "outputs": [
    {
     "name": "stdout",
     "output_type": "stream",
     "text": [
      "1091165\n"
     ]
    }
   ],
   "source": [
    "with open(\"08/input.txt\") as f:\n",
    "    res = []\n",
    "    tot = []\n",
    "    for line in f:\n",
    "        parts = line.split('|')\n",
    "        tot.append([sorted(list(x)) for i in range(2) for x in parts[i].strip().split(' ')])\n",
    "        res.append([sorted(list(x)) for x in parts[1][:-1].strip().split(' ')])\n",
    "\n",
    "s = 0 \n",
    "for ix, row in enumerate(tot):\n",
    "    dic = dict()\n",
    "    lgt = [len(l) for l in row]\n",
    "    # 1, 4, 7, 8\n",
    "    nums1478 = {2: 1, 3: 7, 4: 4, 7: 8}\n",
    "    for i, l in enumerate(lgt):\n",
    "        if len(nums1478) == 0: break\n",
    "        if l in list(nums1478.keys()):\n",
    "            dic[\"\".join(row[i])] = nums1478[l]\n",
    "            nums1478.pop(l)\n",
    "    key_list = list(dic.keys())\n",
    "    val_list = list(dic.values())\n",
    "    keys = [set(k) for k in key_list]\n",
    "    # 5, 0\n",
    "    coun = 0\n",
    "    bd = keys[val_list.index(4)].difference(keys[val_list.index(1)])\n",
    "    for i, l in enumerate(lgt):\n",
    "        if l == 5 and len(bd.difference(set(row[i]))) == 0:\n",
    "            dic[\"\".join(row[i])] = 5\n",
    "            coun += 1\n",
    "        elif l == 6 and len(bd.difference(set(row[i]))) > 0:\n",
    "            dic[\"\".join(row[i])] = 0\n",
    "            coun += 1\n",
    "        if coun == 2: break\n",
    "    # 6, 9\n",
    "    key_list = list(dic.keys())\n",
    "    val_list = list(dic.values())\n",
    "    keys_l = [list(k) for k in key_list]\n",
    "    keys = [set(k) for k in key_list]\n",
    "    row_no_0 = list(filter(lambda x: x != sorted(keys_l[val_list.index(0)]), row))\n",
    "    coun = 0\n",
    "    lgt = [len(l) for l in row_no_0]\n",
    "    for i, l in enumerate(lgt):\n",
    "        if l == 6:\n",
    "            if len(keys[val_list.index(1)].difference(set(row_no_0[i]))) > 0:\n",
    "                dic[\"\".join(row_no_0[i])] = 6\n",
    "                coun += 1\n",
    "            else:\n",
    "                dic[\"\".join(row_no_0[i])] = 9\n",
    "                coun += 1\n",
    "            if coun == 2: break\n",
    "    # 2, 3\n",
    "    key_list = list(dic.keys())\n",
    "    val_list = list(dic.values())\n",
    "    keys = [set(k) for k in key_list]   \n",
    "    keys_l = [list(k) for k in key_list]\n",
    "    e = keys[val_list.index(8)].difference(keys[val_list.index(9)])\n",
    "    row_no_5 = list(filter(lambda x: x != sorted(keys_l[val_list.index(5)]), row))\n",
    "    lgt = [len(l) for l in row_no_5]\n",
    "    coun = 0\n",
    "    for i, l in enumerate(lgt):\n",
    "        if l == 5:\n",
    "            if len(e.difference(set(row_no_5[i]))) == 0:\n",
    "                dic[\"\".join(row_no_5[i])] = 2\n",
    "                coun += 1\n",
    "            else:\n",
    "                dic[\"\".join(row_no_5[i])] = 3\n",
    "                coun += 1\n",
    "            if coun == 2: break\n",
    "    n = 0\n",
    "    for x in res[ix]:\n",
    "        n = 10 * n + dic[\"\".join(x)]\n",
    "    s += n\n",
    "print(s)"
   ]
  },
  {
   "cell_type": "code",
   "execution_count": null,
   "metadata": {},
   "outputs": [],
   "source": []
  },
  {
   "cell_type": "code",
   "execution_count": null,
   "metadata": {},
   "outputs": [],
   "source": []
  }
 ],
 "metadata": {
  "kernelspec": {
   "display_name": "Python 3",
   "language": "python",
   "name": "python3"
  },
  "language_info": {
   "codemirror_mode": {
    "name": "ipython",
    "version": 3
   },
   "file_extension": ".py",
   "mimetype": "text/x-python",
   "name": "python",
   "nbconvert_exporter": "python",
   "pygments_lexer": "ipython3",
   "version": "3.8.3"
  }
 },
 "nbformat": 4,
 "nbformat_minor": 2
}
