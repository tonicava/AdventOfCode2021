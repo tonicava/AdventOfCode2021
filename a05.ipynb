{
 "cells": [
  {
   "cell_type": "code",
   "execution_count": 36,
   "metadata": {},
   "outputs": [],
   "source": [
    "import numpy as np\n",
    "import pandas as pd"
   ]
  },
  {
   "cell_type": "code",
   "execution_count": 49,
   "metadata": {},
   "outputs": [
    {
     "name": "stdout",
     "output_type": "stream",
     "text": [
      "[[556, 286], [337, 201], [786, 780], [977, 864], [544, 127]]\n",
      "[[341, 71], [782, 646], [117, 111], [199, 86], [544, 144]]\n"
     ]
    }
   ],
   "source": [
    "with open(\"05/input.txt\") as f:\n",
    "    (fr, t) = [],[]\n",
    "    for line in f:\n",
    "        fromm, too = line.split(\" -> \")\n",
    "        fr.append([int(x) for x in fromm.split(',')])\n",
    "        t.append([int(x) for x in too.split(',')])\n",
    "print(fr[:5])\n",
    "print(t[:5])"
   ]
  },
  {
   "cell_type": "code",
   "execution_count": 50,
   "metadata": {},
   "outputs": [
    {
     "name": "stdout",
     "output_type": "stream",
     "text": [
      "     0    1\n",
      "0  556  286\n",
      "1  337  201\n",
      "2  786  780\n",
      "3  977  864\n",
      "4  544  127 500      0    1\n",
      "0  341   71\n",
      "1  782  646\n",
      "2  117  111\n",
      "3  199   86\n",
      "4  544  144 500\n"
     ]
    }
   ],
   "source": [
    "df1 = pd.DataFrame(fr)\n",
    "df2 = pd.DataFrame(t)\n",
    "print(df1.head(), len(df1), df2.head(), len(df2))"
   ]
  },
  {
   "cell_type": "code",
   "execution_count": 51,
   "metadata": {
    "scrolled": true
   },
   "outputs": [
    {
     "data": {
      "text/html": [
       "<div>\n",
       "<style scoped>\n",
       "    .dataframe tbody tr th:only-of-type {\n",
       "        vertical-align: middle;\n",
       "    }\n",
       "\n",
       "    .dataframe tbody tr th {\n",
       "        vertical-align: top;\n",
       "    }\n",
       "\n",
       "    .dataframe thead th {\n",
       "        text-align: right;\n",
       "    }\n",
       "</style>\n",
       "<table border=\"1\" class=\"dataframe\">\n",
       "  <thead>\n",
       "    <tr style=\"text-align: right;\">\n",
       "      <th></th>\n",
       "      <th>fx</th>\n",
       "      <th>fy</th>\n",
       "      <th>tx</th>\n",
       "      <th>ty</th>\n",
       "    </tr>\n",
       "  </thead>\n",
       "  <tbody>\n",
       "    <tr>\n",
       "      <th>0</th>\n",
       "      <td>556</td>\n",
       "      <td>286</td>\n",
       "      <td>341</td>\n",
       "      <td>71</td>\n",
       "    </tr>\n",
       "    <tr>\n",
       "      <th>1</th>\n",
       "      <td>337</td>\n",
       "      <td>201</td>\n",
       "      <td>782</td>\n",
       "      <td>646</td>\n",
       "    </tr>\n",
       "    <tr>\n",
       "      <th>2</th>\n",
       "      <td>786</td>\n",
       "      <td>780</td>\n",
       "      <td>117</td>\n",
       "      <td>111</td>\n",
       "    </tr>\n",
       "    <tr>\n",
       "      <th>3</th>\n",
       "      <td>977</td>\n",
       "      <td>864</td>\n",
       "      <td>199</td>\n",
       "      <td>86</td>\n",
       "    </tr>\n",
       "    <tr>\n",
       "      <th>4</th>\n",
       "      <td>544</td>\n",
       "      <td>127</td>\n",
       "      <td>544</td>\n",
       "      <td>144</td>\n",
       "    </tr>\n",
       "  </tbody>\n",
       "</table>\n",
       "</div>"
      ],
      "text/plain": [
       "    fx   fy   tx   ty\n",
       "0  556  286  341   71\n",
       "1  337  201  782  646\n",
       "2  786  780  117  111\n",
       "3  977  864  199   86\n",
       "4  544  127  544  144"
      ]
     },
     "execution_count": 51,
     "metadata": {},
     "output_type": "execute_result"
    }
   ],
   "source": [
    "df = pd.concat([df1, df2], axis=1)\n",
    "df.columns = ['fx', 'fy', 'tx', 'ty']\n",
    "df.head()"
   ]
  },
  {
   "cell_type": "code",
   "execution_count": 23,
   "metadata": {},
   "outputs": [
    {
     "name": "stdout",
     "output_type": "stream",
     "text": [
      "(500, 4) (168, 4) (160, 4)\n",
      "    fx   fy   tx   ty\n",
      "0  536  941  158  941\n",
      "1  397  809  466  809\n",
      "2   35  706  398  706\n",
      "3   61   41  519   41\n",
      "4  800  779  466  779\n",
      "    fx   fy   tx   ty\n",
      "0  544  127  544  144\n",
      "1  539  471  539  972\n",
      "2  364  765  364  285\n",
      "3  639  676  639  701\n",
      "4  158  557  158  922\n"
     ]
    }
   ],
   "source": [
    "dfx = df[df['fy']==df['ty']].reset_index(drop=True)\n",
    "dfy = df[df['fx']==df['tx']].reset_index(drop=True)\n",
    "\n",
    "print(df.shape, dfx.shape, dfy.shape)\n",
    "print(dfx.head())\n",
    "print(dfy.head())"
   ]
  },
  {
   "cell_type": "code",
   "execution_count": 24,
   "metadata": {},
   "outputs": [
    {
     "name": "stdout",
     "output_type": "stream",
     "text": [
      "989 990 990\n"
     ]
    }
   ],
   "source": [
    "maxx = max(dfx['fx'].max(), dfx['tx'].max(), dfy['fx'].max(), dfy['tx'].max())\n",
    "maxy = max(dfx['fy'].max(), dfx['ty'].max(), dfy['fy'].max(), dfy['ty'].max())\n",
    "n = max(maxx, maxy) + 1\n",
    "print(maxx, maxy, n)"
   ]
  },
  {
   "cell_type": "code",
   "execution_count": 30,
   "metadata": {},
   "outputs": [
    {
     "name": "stdout",
     "output_type": "stream",
     "text": [
      "991 991 0\n"
     ]
    }
   ],
   "source": [
    "maize = [[0]*n for _ in [0]*n]\n",
    "print(len(maize), len(maize[0]), maize[0][0])"
   ]
  },
  {
   "cell_type": "code",
   "execution_count": 31,
   "metadata": {},
   "outputs": [],
   "source": [
    "for i in range(dfx.shape[0]):\n",
    "    mn = min(dfx.iloc[i]['fx'], dfx.iloc[i]['tx'])\n",
    "    mx = max(dfx.iloc[i]['fx'], dfx.iloc[i]['tx'])\n",
    "    for l in range(mn, mx+1):\n",
    "        maize[l][dfx.iloc[i]['fy']] += 1\n",
    "        \n",
    "for i in range(dfy.shape[0]):\n",
    "    mn = min(dfy.iloc[i]['fy'], dfy.iloc[i]['ty'])\n",
    "    mx = max(dfy.iloc[i]['fy'], dfy.iloc[i]['ty'])\n",
    "    for l in range(mn, mx+1):\n",
    "        maize[dfy.iloc[i]['fx']][l] += 1"
   ]
  },
  {
   "cell_type": "code",
   "execution_count": 33,
   "metadata": {},
   "outputs": [
    {
     "data": {
      "text/plain": [
       "5145"
      ]
     },
     "execution_count": 33,
     "metadata": {},
     "output_type": "execute_result"
    }
   ],
   "source": [
    "sum([1 for i in range(n) for j in range(n) if maize[i][j]>1])"
   ]
  },
  {
   "cell_type": "code",
   "execution_count": 43,
   "metadata": {},
   "outputs": [
    {
     "data": {
      "text/html": [
       "<div>\n",
       "<style scoped>\n",
       "    .dataframe tbody tr th:only-of-type {\n",
       "        vertical-align: middle;\n",
       "    }\n",
       "\n",
       "    .dataframe tbody tr th {\n",
       "        vertical-align: top;\n",
       "    }\n",
       "\n",
       "    .dataframe thead th {\n",
       "        text-align: right;\n",
       "    }\n",
       "</style>\n",
       "<table border=\"1\" class=\"dataframe\">\n",
       "  <thead>\n",
       "    <tr style=\"text-align: right;\">\n",
       "      <th></th>\n",
       "      <th>fx</th>\n",
       "      <th>fy</th>\n",
       "      <th>tx</th>\n",
       "      <th>ty</th>\n",
       "    </tr>\n",
       "  </thead>\n",
       "  <tbody>\n",
       "    <tr>\n",
       "      <th>0</th>\n",
       "      <td>0</td>\n",
       "      <td>9</td>\n",
       "      <td>5</td>\n",
       "      <td>9</td>\n",
       "    </tr>\n",
       "    <tr>\n",
       "      <th>1</th>\n",
       "      <td>8</td>\n",
       "      <td>0</td>\n",
       "      <td>0</td>\n",
       "      <td>8</td>\n",
       "    </tr>\n",
       "    <tr>\n",
       "      <th>2</th>\n",
       "      <td>9</td>\n",
       "      <td>4</td>\n",
       "      <td>3</td>\n",
       "      <td>4</td>\n",
       "    </tr>\n",
       "    <tr>\n",
       "      <th>3</th>\n",
       "      <td>2</td>\n",
       "      <td>2</td>\n",
       "      <td>2</td>\n",
       "      <td>1</td>\n",
       "    </tr>\n",
       "    <tr>\n",
       "      <th>4</th>\n",
       "      <td>7</td>\n",
       "      <td>0</td>\n",
       "      <td>7</td>\n",
       "      <td>4</td>\n",
       "    </tr>\n",
       "  </tbody>\n",
       "</table>\n",
       "</div>"
      ],
      "text/plain": [
       "   fx  fy  tx  ty\n",
       "0   0   9   5   9\n",
       "1   8   0   0   8\n",
       "2   9   4   3   4\n",
       "3   2   2   2   1\n",
       "4   7   0   7   4"
      ]
     },
     "execution_count": 43,
     "metadata": {},
     "output_type": "execute_result"
    }
   ],
   "source": [
    "with open(\"05/test.txt\") as f:\n",
    "    (fr, t) = [],[]\n",
    "    for line in f:\n",
    "        fromm, too = line.split(\" -> \")\n",
    "        fr.append([int(x) for x in fromm.split(',')])\n",
    "        t.append([int(x) for x in too.split(',')])\n",
    "\n",
    "df1 = pd.DataFrame(fr)\n",
    "df2 = pd.DataFrame(t)\n",
    "df = pd.concat([df1, df2], axis=1)\n",
    "df.columns = ['fx', 'fy', 'tx', 'ty']\n",
    "df.head()"
   ]
  },
  {
   "cell_type": "code",
   "execution_count": 53,
   "metadata": {},
   "outputs": [
    {
     "name": "stdout",
     "output_type": "stream",
     "text": [
      "16518\n"
     ]
    }
   ],
   "source": [
    "maxx = max(df['fx'].max(), df['tx'].max())\n",
    "maxy = max(df['fy'].max(), df['ty'].max())\n",
    "n = max(maxx, maxy) + 1\n",
    "\n",
    "mz = [[0]*n for _ in [0]*n]\n",
    "\n",
    "for ii in range(df.shape[0]):\n",
    "    fx = df.iloc[ii]['fx']\n",
    "    tx = df.iloc[ii]['tx']\n",
    "    fy = df.iloc[ii]['fy']\n",
    "    ty = df.iloc[ii]['ty']\n",
    "    if fy == ty:\n",
    "        m = min(fx, tx)\n",
    "        M = max(fx, tx)\n",
    "        for i in range(m, M+1):\n",
    "            mz[i][fy] += 1\n",
    "        continue\n",
    "    if fx == tx:\n",
    "        m = min(fy, ty)\n",
    "        M = max(fy, ty)\n",
    "        for i in range(m, M+1):\n",
    "            mz[fx][i] += 1\n",
    "        continue\n",
    "    d = abs(tx - fx) + 1\n",
    "    if fx < tx and fy < ty:\n",
    "        for i in range(d):\n",
    "            mz[fx+i][fy+i] += 1\n",
    "        continue\n",
    "    if fx < tx and fy > ty:\n",
    "        for i in range(d):\n",
    "            mz[fx+i][fy-i] += 1\n",
    "        continue\n",
    "    if fx > tx and fy < ty:\n",
    "        for i in range(d):\n",
    "            mz[fx-i][fy+i] += 1\n",
    "        continue\n",
    "\n",
    "    for i in range(d):\n",
    "        mz[fx-i][fy-i] += 1\n",
    "\n",
    "print(sum([1 for i in range(n) for j in range(n) if mz[i][j]>1]))"
   ]
  },
  {
   "cell_type": "code",
   "execution_count": null,
   "metadata": {},
   "outputs": [],
   "source": []
  }
 ],
 "metadata": {
  "kernelspec": {
   "display_name": "Python 3",
   "language": "python",
   "name": "python3"
  },
  "language_info": {
   "codemirror_mode": {
    "name": "ipython",
    "version": 3
   },
   "file_extension": ".py",
   "mimetype": "text/x-python",
   "name": "python",
   "nbconvert_exporter": "python",
   "pygments_lexer": "ipython3",
   "version": "3.8.3"
  }
 },
 "nbformat": 4,
 "nbformat_minor": 2
}
