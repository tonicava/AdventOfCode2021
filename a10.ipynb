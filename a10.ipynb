{
 "cells": [
  {
   "cell_type": "code",
   "execution_count": 28,
   "metadata": {},
   "outputs": [],
   "source": [
    "import numpy as np\n",
    "from collections import Counter\n",
    "import pandas as pd"
   ]
  },
  {
   "cell_type": "code",
   "execution_count": 29,
   "metadata": {},
   "outputs": [
    {
     "name": "stdout",
     "output_type": "stream",
     "text": [
      "339477\n"
     ]
    }
   ],
   "source": [
    "with open(\"10/input.txt\") as f:\n",
    "    arr = []\n",
    "    for line in f:\n",
    "        l = [x for x in line[:-1]]\n",
    "        arr += [l]\n",
    "n = len(arr)\n",
    "vals = {')': 3, ']': 57, '}': 1197, '>': 25137}\n",
    "s = 0\n",
    "for ar in arr:\n",
    "    queue = []\n",
    "    i = 0\n",
    "    while i < len(ar):\n",
    "        c = ar[i]\n",
    "        if c in ['(', '[', '{', '<']: \n",
    "            queue += c\n",
    "        else:\n",
    "            q = queue.pop()\n",
    "            if q == '(' and c != ')' or q == '[' and c != ']' or q == '{' and c != '}' or q == '<' and c != '>':\n",
    "                s += vals[c]\n",
    "                i = len(ar)\n",
    "        i += 1\n",
    "\n",
    "print(s)\n",
    "        "
   ]
  },
  {
   "cell_type": "code",
   "execution_count": 31,
   "metadata": {},
   "outputs": [
    {
     "name": "stdout",
     "output_type": "stream",
     "text": [
      "3049320156\n"
     ]
    }
   ],
   "source": [
    "with open(\"10/input.txt\") as f:\n",
    "    arr = []\n",
    "    for line in f:\n",
    "        l = [x for x in line[:-1]]\n",
    "        arr += [l]\n",
    "n = len(arr)\n",
    "incomplete = []\n",
    "\n",
    "s = 0\n",
    "for ar in arr:\n",
    "    queue = []\n",
    "    i = 0\n",
    "    ok = True\n",
    "    while i < len(ar):\n",
    "        c = ar[i]\n",
    "        if c in ['(', '[', '{', '<']: \n",
    "            queue += c\n",
    "        else:\n",
    "            q = queue.pop()\n",
    "            if q == '(' and c != ')' or q == '[' and c != ']' or q == '{' and c != '}' or q == '<' and c != '>':\n",
    "                i = len(ar)\n",
    "                ok = False\n",
    "        i += 1\n",
    "    if ok: incomplete += [ar]\n",
    "\n",
    "vals = {'(': 1, '[': 2, '{': 3, '<': 4}\n",
    "series = []\n",
    "for ar in incomplete:\n",
    "    queue = []\n",
    "    i = 0\n",
    "    for i in range(len(ar)):\n",
    "        c = ar[i]\n",
    "        if c in ['(', '[', '{', '<']: queue += c\n",
    "        else: q = queue.pop()\n",
    "    n = 0\n",
    "    while len(queue) > 0:\n",
    "        q = queue.pop()\n",
    "        n = n * 5 + vals[q]\n",
    "    series += [n]\n",
    "\n",
    "print(sorted(series)[len(series)//2])\n",
    "        "
   ]
  },
  {
   "cell_type": "code",
   "execution_count": null,
   "metadata": {},
   "outputs": [],
   "source": []
  }
 ],
 "metadata": {
  "kernelspec": {
   "display_name": "Python 3",
   "language": "python",
   "name": "python3"
  },
  "language_info": {
   "codemirror_mode": {
    "name": "ipython",
    "version": 3
   },
   "file_extension": ".py",
   "mimetype": "text/x-python",
   "name": "python",
   "nbconvert_exporter": "python",
   "pygments_lexer": "ipython3",
   "version": "3.8.3"
  }
 },
 "nbformat": 4,
 "nbformat_minor": 2
}
