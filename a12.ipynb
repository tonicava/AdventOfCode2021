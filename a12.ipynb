{
 "cells": [
  {
   "cell_type": "code",
   "execution_count": 1,
   "metadata": {},
   "outputs": [],
   "source": [
    "import numpy as np\n",
    "from collections import Counter\n",
    "import pandas as pd"
   ]
  },
  {
   "cell_type": "code",
   "execution_count": 132,
   "metadata": {},
   "outputs": [
    {
     "name": "stdout",
     "output_type": "stream",
     "text": [
      "{'start': ['A', 'b'], 'A': ['c', 'b', 'end'], 'c': ['A'], 'b': ['A', 'd', 'end'], 'd': ['b']} {'start': -1, 'A': 0, 'c': -1, 'b': -1, 'd': -1}\n"
     ]
    }
   ],
   "source": [
    "with open(\"12/test1.txt\") as f:\n",
    "    graph = {}\n",
    "    for line in f:\n",
    "        (aa, bb) = line.split('-')\n",
    "        k = ''.join(aa.strip())\n",
    "        v = ''.join(bb.strip())\n",
    "        if v != \"start\":\n",
    "            if k in graph.keys(): graph[k].append(v)\n",
    "            else: graph[k] = [v]\n",
    "        if v != \"end\" and k != 'start':\n",
    "            if v in graph.keys(): graph[v].append(k)\n",
    "            else: graph[v] = [k]            \n",
    "\n",
    "path = {}\n",
    "for k in graph.keys():\n",
    "    if k.isupper(): path[k] = 0\n",
    "    else: path[k] = -1\n",
    "\n",
    "print(graph, path)"
   ]
  },
  {
   "cell_type": "code",
   "execution_count": 16,
   "metadata": {
    "scrolled": true
   },
   "outputs": [
    {
     "name": "stdout",
     "output_type": "stream",
     "text": [
      "1\n"
     ]
    }
   ],
   "source": [
    "def go(graph, path, node, way):\n",
    "    for n in graph[node]:\n",
    "        if n == 'end':\n",
    "            go.way += [way]\n",
    "            go.count += 1\n",
    "        elif n in graph.keys():\n",
    "            if path[n] == 0: go(graph, path, n, way+[n])\n",
    "            elif path[n] == -1:\n",
    "                path[n] = 1\n",
    "                go(graph, path, n, way+[n])\n",
    "                path[n] = -1\n",
    "\n",
    "go.count = 0\n",
    "go.way = []\n",
    "go(graph, path, 'start', ['start'])\n",
    "print(go.count)\n",
    "#print(go.way)"
   ]
  },
  {
   "cell_type": "code",
   "execution_count": 29,
   "metadata": {},
   "outputs": [
    {
     "name": "stdout",
     "output_type": "stream",
     "text": [
      "{'VJ': ['nx', 'end', 'em', 'hi'], 'nx': ['VJ', 'UL', 'FN', 'end'], 'start': ['sv', 'hi', 'VJ'], 'UL': ['nx'], 'FN': ['nx', 'zl', 'em', 'jx', 'sv', 'hi'], 'zl': ['FN', 'end', 'em', 'sv'], 'end': ['VJ', 'zl'], 'sv': ['hi', 'em', 'zl', 'FN'], 'hi': ['sv', 'VJ', 'FN'], 'em': ['VJ', 'sv', 'zl', 'FN'], 'jx': ['FN']} {'VJ': 0, 'nx': -1, 'start': -1, 'UL': 0, 'FN': 0, 'zl': -1, 'end': -1, 'sv': -1, 'hi': -1, 'em': -1, 'jx': -1}\n"
     ]
    }
   ],
   "source": [
    "with open(\"12/input.txt\") as f:\n",
    "    graph = {}\n",
    "    for line in f:\n",
    "        (aa, bb) = line.split('-')\n",
    "        k = ''.join(aa.strip())\n",
    "        v = ''.join(bb.strip())\n",
    "        if v != \"start\":\n",
    "            if k in graph.keys(): graph[k].append(v)\n",
    "            else: graph[k] = [v]\n",
    "        if v != \"end\" and k != 'start':\n",
    "            if v in graph.keys(): graph[v].append(k)\n",
    "            else: graph[v] = [k]            \n",
    "\n",
    "path = {}\n",
    "for k in graph.keys():\n",
    "    if k.isupper(): path[k] = 0\n",
    "    else: path[k] = -1\n",
    "\n",
    "print(graph, path)"
   ]
  },
  {
   "cell_type": "code",
   "execution_count": 30,
   "metadata": {},
   "outputs": [
    {
     "name": "stdout",
     "output_type": "stream",
     "text": [
      "149385\n"
     ]
    }
   ],
   "source": [
    "def two(d):\n",
    "    i = 0\n",
    "    for v in d.values():\n",
    "        if v == 2: i += 1\n",
    "        if i >= 2 or v > 2: return False\n",
    "    return True\n",
    "\n",
    "def go(graph, path, node, d, way):\n",
    "    for n in graph[node]:\n",
    "        if n == 'end':\n",
    "            # print(way)\n",
    "            go.count += 1\n",
    "        elif n in graph.keys():\n",
    "            if path[n] == 0: \n",
    "                go(graph, path, n, d, way+[n])\n",
    "            elif n == 'end': go(graph, path, n, d, way+[n])\n",
    "            elif path[n] == -1:\n",
    "                d[n] += 1\n",
    "                if two(d): go(graph, path, n, d, way+[n])\n",
    "                d[n] -= 1\n",
    "\n",
    "go.count = 0\n",
    "dicc = {v: 0 for v in graph.keys() if not v.isupper() and v != 'start'}\n",
    "go(graph, path, 'start', dicc, [])\n",
    "print(go.count)\n"
   ]
  },
  {
   "cell_type": "code",
   "execution_count": null,
   "metadata": {},
   "outputs": [],
   "source": []
  }
 ],
 "metadata": {
  "kernelspec": {
   "display_name": "Python 3",
   "language": "python",
   "name": "python3"
  },
  "language_info": {
   "codemirror_mode": {
    "name": "ipython",
    "version": 3
   },
   "file_extension": ".py",
   "mimetype": "text/x-python",
   "name": "python",
   "nbconvert_exporter": "python",
   "pygments_lexer": "ipython3",
   "version": "3.8.3"
  }
 },
 "nbformat": 4,
 "nbformat_minor": 2
}
