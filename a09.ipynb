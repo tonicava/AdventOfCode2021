{
 "cells": [
  {
   "cell_type": "code",
   "execution_count": 8,
   "metadata": {},
   "outputs": [],
   "source": [
    "import numpy as np\n",
    "from collections import Counter\n",
    "import pandas as pd"
   ]
  },
  {
   "cell_type": "code",
   "execution_count": 20,
   "metadata": {},
   "outputs": [
    {
     "name": "stdout",
     "output_type": "stream",
     "text": [
      "548\n"
     ]
    }
   ],
   "source": [
    "with open(\"09/input.txt\") as f:\n",
    "    mapp = []\n",
    "    for line in f:\n",
    "        l = [x for x in line[:-1]]\n",
    "        mapp += [[int(x) for x in list(l)]]\n",
    "m = len(mapp[0])\n",
    "n = len(mapp)\n",
    "s = sum(x for y in mapp for x in y)\n",
    "\n",
    "mm = [[s]*(m+2) for _ in [s]*(n+2)]\n",
    "for i in range(n):\n",
    "    for j in range (m):\n",
    "        mm[i+1][j+1] = mapp[i][j]\n",
    "#print(n, m, s, \"\\n\", mapp, \"\\n\", mm)\n",
    "\n",
    "s = 0\n",
    "num = 0\n",
    "for i in range(n):\n",
    "    for j in range (m):\n",
    "        if mm[i+1][j+1]<mm[i][j+1] and mm[i+1][j+1]<mm[i+2][j+1] and mm[i+1][j+1]<mm[i+1][j] and mm[i+1][j+1]<mm[i+1][j+2]:\n",
    "            num += 1\n",
    "            s += mm[i+1][j+1]\n",
    "print(s + num)"
   ]
  },
  {
   "cell_type": "code",
   "execution_count": 60,
   "metadata": {},
   "outputs": [],
   "source": [
    "def basin(mm, mask, i, j, v):\n",
    "    '''\n",
    "    computes successive paths (1,2,3...)\n",
    "    '''\n",
    "    if mm[i][j] < 9 and mm[i][j] == v and mask[i][j] == 0:\n",
    "        mask[i][j] = 1\n",
    "        basin.tot += 1\n",
    "        basin(mm, mask, i-1, j, v+1)\n",
    "        basin(mm, mask, i+1, j, v+1)\n",
    "        basin(mm, mask, i, j-1, v+1)\n",
    "        basin(mm, mask, i, j+1, v+1)"
   ]
  },
  {
   "cell_type": "code",
   "execution_count": 62,
   "metadata": {},
   "outputs": [],
   "source": [
    "def basin(mm, mask, i, j, v):\n",
    "    '''\n",
    "    computes paths where val < 9\n",
    "    '''\n",
    "    if mm[i][j] < 9 and mask[i][j] == 0:\n",
    "        mask[i][j] = 1\n",
    "        basin.tot += 1\n",
    "        basin(mm, mask, i-1, j, v+1)\n",
    "        basin(mm, mask, i+1, j, v+1)\n",
    "        basin(mm, mask, i, j-1, v+1)\n",
    "        basin(mm, mask, i, j+1, v+1)"
   ]
  },
  {
   "cell_type": "code",
   "execution_count": 63,
   "metadata": {},
   "outputs": [
    {
     "name": "stdout",
     "output_type": "stream",
     "text": [
      "[96, 92, 89, 89, 88, 88, 86, 85, 81, 80, 78, 78, 78, 78, 77, 75, 74, 73, 72, 72, 72, 72, 71, 70, 69, 69, 67, 67, 67, 66, 65, 64, 64, 62, 61, 60, 60, 59, 59, 57, 55, 55, 55, 55, 55, 54, 53, 53, 52, 52, 52, 51, 51, 51, 51, 50, 50, 49, 48, 48, 48, 47, 46, 46, 46, 45, 45, 45, 45, 44, 44, 42, 42, 42, 41, 40, 39, 39, 39, 39, 39, 39, 38, 38, 38, 37, 37, 37, 36, 35, 35, 35, 34, 34, 33, 32, 31, 31, 31, 31, 31, 30, 29, 29, 28, 28, 28, 28, 27, 27, 27, 27, 27, 26, 26, 26, 25, 25, 25, 25, 24, 24, 24, 23, 23, 23, 21, 21, 21, 21, 21, 20, 20, 19, 19, 19, 19, 18, 18, 18, 18, 18, 18, 18, 18, 18, 17, 17, 17, 16, 15, 15, 15, 15, 15, 15, 14, 14, 14, 13, 13, 12, 12, 12, 11, 11, 11, 11, 11, 11, 10, 10, 10, 10, 10, 9, 9, 9, 9, 9, 9, 9, 8, 8, 8, 8, 8, 7, 6, 6, 6, 6, 6, 6, 5, 5, 5, 5, 5, 5, 5, 5, 4, 4, 4, 4, 4, 4, 4, 4, 4, 3, 3, 3, 3, 3, 3, 3, 3, 3, 3, 3, 3, 3, 2, 2, 2, 2, 2, 2, 2, 2, 2, 2, 2]\n",
      "[96 92 89]\n",
      "786048\n"
     ]
    }
   ],
   "source": [
    "with open(\"09/input.txt\") as f:\n",
    "    mapp = []\n",
    "    for line in f:\n",
    "        l = [x for x in line[:-1]]\n",
    "        mapp += [[int(x) for x in list(l)]]\n",
    "m = len(mapp[0])\n",
    "n = len(mapp)\n",
    "s = sum(x for y in mapp for x in y)\n",
    "\n",
    "mm = [[s]*(m+2) for _ in [s]*(n+2)]\n",
    "\n",
    "for i in range(n):\n",
    "    for j in range (m):\n",
    "        mm[i+1][j+1] = mapp[i][j]\n",
    "\n",
    "idx = []\n",
    "for i in range(1, n+2):\n",
    "    for j in range (1, m+2):\n",
    "        if mm[i][j]<mm[i-1][j] and mm[i][j]<mm[i+1][j] and mm[i][j]<mm[i][j-1] and mm[i][j]<mm[i][j+1]:\n",
    "            idx += [[i, j]]\n",
    "res = []\n",
    "\n",
    "for l in idx:\n",
    "    basin.tot = 0\n",
    "    mask = [[0]*(m+2) for _ in [0]*(n+2)]\n",
    "    basin(mm, mask, l[0], l[1], mm[l[0]][l[1]])\n",
    "    res += [basin.tot]\n",
    "r = np.array(sorted(res, reverse=True)[:3])\n",
    "print(sorted(res, reverse=True))\n",
    "print(r)\n",
    "print(np.product(r))\n"
   ]
  },
  {
   "cell_type": "code",
   "execution_count": null,
   "metadata": {},
   "outputs": [],
   "source": []
  },
  {
   "cell_type": "code",
   "execution_count": null,
   "metadata": {},
   "outputs": [],
   "source": []
  }
 ],
 "metadata": {
  "kernelspec": {
   "display_name": "Python 3",
   "language": "python",
   "name": "python3"
  },
  "language_info": {
   "codemirror_mode": {
    "name": "ipython",
    "version": 3
   },
   "file_extension": ".py",
   "mimetype": "text/x-python",
   "name": "python",
   "nbconvert_exporter": "python",
   "pygments_lexer": "ipython3",
   "version": "3.8.3"
  }
 },
 "nbformat": 4,
 "nbformat_minor": 2
}
