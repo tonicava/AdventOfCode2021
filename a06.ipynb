{
 "cells": [
  {
   "cell_type": "code",
   "execution_count": 10,
   "metadata": {},
   "outputs": [],
   "source": [
    "import numpy as np\n",
    "from collections import Counter\n",
    "import pandas as pd"
   ]
  },
  {
   "cell_type": "code",
   "execution_count": 11,
   "metadata": {},
   "outputs": [
    {
     "name": "stdout",
     "output_type": "stream",
     "text": [
      "[3, 4, 3, 1, 2]\n"
     ]
    }
   ],
   "source": [
    "with open(\"06/test.txt\") as f:\n",
    "    for line in f:\n",
    "        lantern = [int(x) for x in line.split(',')]\n",
    "\n",
    "print(lantern)"
   ]
  },
  {
   "cell_type": "code",
   "execution_count": 9,
   "metadata": {},
   "outputs": [],
   "source": [
    "#for i in range(256):\n",
    "#    lantern = [x-1 for x in lantern]\n",
    "#    count_minus_ones = sum([1 for x in lantern if x == -1])\n",
    "#    lantern = [x if x > -1 else 6 for x in lantern]\n",
    "#    lantern += [8]*count_minus_ones\n",
    "#print(len(lantern))"
   ]
  },
  {
   "cell_type": "code",
   "execution_count": null,
   "metadata": {},
   "outputs": [],
   "source": [
    "#npa = np.array(lantern)\n",
    "#for i in range(256):\n",
    "#    npa -= 1\n",
    "#    count_minus_ones = Counter(npa)[-1]\n",
    "#    npa = np.where(npa == -1, 6, npa)\n",
    "#    if count_minus_ones > 0: npa = np.concatenate((npa, np.full((count_minus_ones,), 8)))\n",
    "#print(len(npa))"
   ]
  },
  {
   "cell_type": "code",
   "execution_count": 24,
   "metadata": {},
   "outputs": [
    {
     "data": {
      "text/plain": [
       "{0: 0, 1: 1, 2: 1, 3: 2, 4: 1, 5: 0, 6: 0, 7: 0, 8: 0, -1: 0}"
      ]
     },
     "execution_count": 24,
     "metadata": {},
     "output_type": "execute_result"
    }
   ],
   "source": [
    "dic = dict.fromkeys(range(-1, 9), 0)\n",
    "dic_in = dict(Counter(np.array(lantern)))\n",
    "dic = {k: dic.get(k, 0) + dic_in.get(k, 0) for k in set(dic) | set(dic_in)}\n",
    "dic"
   ]
  },
  {
   "cell_type": "code",
   "execution_count": 25,
   "metadata": {},
   "outputs": [
    {
     "name": "stdout",
     "output_type": "stream",
     "text": [
      "26984457539\n"
     ]
    }
   ],
   "source": [
    "for i in range(256):\n",
    "    dic = {k-1: dic.get(k, 0) for k in set(dic)}\n",
    "    dic[8] = dic[-1]\n",
    "    dic[6] += dic[-1]\n",
    "    dic[-1] = 0\n",
    "print(sum(dic[e] for e in set(dic)))"
   ]
  },
  {
   "cell_type": "code",
   "execution_count": 27,
   "metadata": {},
   "outputs": [
    {
     "name": "stdout",
     "output_type": "stream",
     "text": [
      "377263\n"
     ]
    }
   ],
   "source": [
    "with open(\"06/input.txt\") as f:\n",
    "    for line in f:\n",
    "        lantern = [int(x) for x in line.split(',')]\n",
    "\n",
    "for i in range(80):\n",
    "    lantern = [x-1 for x in lantern]\n",
    "    count_minus_ones = sum([1 for x in lantern if x == -1])\n",
    "    lantern = [x if x > -1 else 6 for x in lantern]\n",
    "    lantern += [8]*count_minus_ones\n",
    "print(len(lantern))"
   ]
  },
  {
   "cell_type": "code",
   "execution_count": 29,
   "metadata": {},
   "outputs": [
    {
     "name": "stdout",
     "output_type": "stream",
     "text": [
      "1695929023803\n"
     ]
    }
   ],
   "source": [
    "with open(\"06/input.txt\") as f:\n",
    "    for line in f:\n",
    "        lantern = [int(x) for x in line.split(',')]\n",
    "\n",
    "dic = dict.fromkeys(range(-1, 9), 0)\n",
    "dic_in = dict(Counter(np.array(lantern)))\n",
    "dic = {k: dic.get(k, 0) + dic_in.get(k, 0) for k in set(dic) | set(dic_in)}\n",
    "for i in range(256):\n",
    "    dic = {k-1: dic.get(k, 0) for k in set(dic)}\n",
    "    dic[8] = dic[-1]\n",
    "    dic[6] += dic[-1]\n",
    "    dic[-1] = 0\n",
    "print(sum(dic[e] for e in set(dic)))"
   ]
  },
  {
   "cell_type": "code",
   "execution_count": null,
   "metadata": {},
   "outputs": [],
   "source": []
  }
 ],
 "metadata": {
  "kernelspec": {
   "display_name": "Python 3",
   "language": "python",
   "name": "python3"
  },
  "language_info": {
   "codemirror_mode": {
    "name": "ipython",
    "version": 3
   },
   "file_extension": ".py",
   "mimetype": "text/x-python",
   "name": "python",
   "nbconvert_exporter": "python",
   "pygments_lexer": "ipython3",
   "version": "3.8.3"
  }
 },
 "nbformat": 4,
 "nbformat_minor": 2
}
