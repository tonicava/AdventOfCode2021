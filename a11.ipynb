{
 "cells": [
  {
   "cell_type": "code",
   "execution_count": 1,
   "metadata": {},
   "outputs": [],
   "source": [
    "import numpy as np\n",
    "from collections import Counter\n",
    "import pandas as pd"
   ]
  },
  {
   "cell_type": "code",
   "execution_count": 34,
   "metadata": {},
   "outputs": [
    {
     "name": "stdout",
     "output_type": "stream",
     "text": [
      "[[8 2 2 2 2 2 2 2 7 5]\n",
      " [2 2 2 2 2 2 2 2 3 7]\n",
      " [2 2 2 2 2 2 2 2 4 0]\n",
      " [2 2 2 2 2 2 2 2 5 0]\n",
      " [2 2 2 2 2 2 2 2 5 0]\n",
      " [2 2 2 2 2 2 2 2 5 0]\n",
      " [2 2 2 2 2 2 2 3 6 2]\n",
      " [2 2 2 2 2 2 3 5 1 1]\n",
      " [3 3 2 2 2 3 5 1 1 1]\n",
      " [1 3 2 2 2 3 1 1 1 9]]\n",
      "1637\n"
     ]
    }
   ],
   "source": [
    "with open(\"11/input.txt\") as f:\n",
    "    arr = []\n",
    "    for line in f:\n",
    "        l = [int(x) for x in line[:-1]]\n",
    "        arr += [l]\n",
    "nparr = np.array(arr)\n",
    "s = 0\n",
    "for _ in range(100):\n",
    "    nparr = nparr + 1\n",
    "    fl = np.zeros_like(nparr)\n",
    "    n = 0\n",
    "    n_ant = -1\n",
    "    while n - n_ant > 0:\n",
    "        for i in range(nparr.shape[0]):\n",
    "            for j in range(nparr.shape[1]):\n",
    "                if nparr[i][j] > 9 and fl[i][j] == 0:\n",
    "                    fl[i][j] = 1\n",
    "                    for ii in range(-1, 2):\n",
    "                        for jj in range(-1, 2):\n",
    "                            if i + ii in range(nparr.shape[0]) and j + jj in range(nparr.shape[1]):\n",
    "                                nparr[i+ii][j+jj] += 1\n",
    "        n_ant = n\n",
    "        n = (fl == 1).sum()\n",
    "    nparr[nparr > 9] = 0\n",
    "    s += n\n",
    "print(nparr)\n",
    "print(s)"
   ]
  },
  {
   "cell_type": "code",
   "execution_count": 36,
   "metadata": {},
   "outputs": [
    {
     "name": "stdout",
     "output_type": "stream",
     "text": [
      "[[0 0 0 0 0 0 0 0 0 0]\n",
      " [0 0 0 0 0 0 0 0 0 0]\n",
      " [0 0 0 0 0 0 0 0 0 0]\n",
      " [0 0 0 0 0 0 0 0 0 0]\n",
      " [0 0 0 0 0 0 0 0 0 0]\n",
      " [0 0 0 0 0 0 0 0 0 0]\n",
      " [0 0 0 0 0 0 0 0 0 0]\n",
      " [0 0 0 0 0 0 0 0 0 0]\n",
      " [0 0 0 0 0 0 0 0 0 0]\n",
      " [0 0 0 0 0 0 0 0 0 0]]\n",
      "242\n"
     ]
    }
   ],
   "source": [
    "with open(\"11/input.txt\") as f:\n",
    "    arr = []\n",
    "    for line in f:\n",
    "        l = [int(x) for x in line[:-1]]\n",
    "        arr += [l]\n",
    "nparr = np.array(arr)\n",
    "step = 0\n",
    "while True:\n",
    "    nparr = nparr + 1\n",
    "    fl = np.zeros_like(nparr)\n",
    "    n = 0\n",
    "    n_ant = -1\n",
    "    while n - n_ant > 0:\n",
    "        for i in range(nparr.shape[0]):\n",
    "            for j in range(nparr.shape[1]):\n",
    "                if nparr[i][j] > 9 and fl[i][j] == 0:\n",
    "                    fl[i][j] = 1\n",
    "                    for ii in range(-1, 2):\n",
    "                        for jj in range(-1, 2):\n",
    "                            if i + ii in range(nparr.shape[0]) and j + jj in range(nparr.shape[1]):\n",
    "                                nparr[i+ii][j+jj] += 1\n",
    "        n_ant = n\n",
    "        n = (fl == 1).sum()\n",
    "    step += 1\n",
    "    nparr[nparr > 9] = 0\n",
    "    if n == nparr.shape[0] * nparr.shape[1]: break\n",
    "    \n",
    "print(nparr)\n",
    "print(step)"
   ]
  },
  {
   "cell_type": "code",
   "execution_count": null,
   "metadata": {},
   "outputs": [],
   "source": []
  }
 ],
 "metadata": {
  "kernelspec": {
   "display_name": "Python 3",
   "language": "python",
   "name": "python3"
  },
  "language_info": {
   "codemirror_mode": {
    "name": "ipython",
    "version": 3
   },
   "file_extension": ".py",
   "mimetype": "text/x-python",
   "name": "python",
   "nbconvert_exporter": "python",
   "pygments_lexer": "ipython3",
   "version": "3.8.3"
  }
 },
 "nbformat": 4,
 "nbformat_minor": 2
}
