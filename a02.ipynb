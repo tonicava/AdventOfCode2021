{
 "cells": [
  {
   "cell_type": "code",
   "execution_count": 1,
   "metadata": {},
   "outputs": [],
   "source": [
    "import numpy as np\n",
    "import pandas as pd"
   ]
  },
  {
   "cell_type": "code",
   "execution_count": 3,
   "metadata": {},
   "outputs": [
    {
     "data": {
      "text/plain": [
       "[['forward', '7'],\n",
       " ['down', '1'],\n",
       " ['forward', '9'],\n",
       " ['forward', '4'],\n",
       " ['forward', '7'],\n",
       " ['down', '8'],\n",
       " ['forward', '9'],\n",
       " ['down', '2'],\n",
       " ['forward', '5'],\n",
       " ['down', '3']]"
      ]
     },
     "execution_count": 3,
     "metadata": {},
     "output_type": "execute_result"
    }
   ],
   "source": [
    "arr = []  \n",
    "with open(\"02/input.txt\") as f:\n",
    "    for line in f: arr += [line.split()]\n",
    "\n",
    "arr[:10]"
   ]
  },
  {
   "cell_type": "code",
   "execution_count": 5,
   "metadata": {
    "scrolled": true
   },
   "outputs": [
    {
     "name": "stdout",
     "output_type": "stream",
     "text": [
      "[1944, 1049]\n",
      "2039256\n"
     ]
    }
   ],
   "source": [
    "pos = [0, 0]\n",
    "for m in arr:\n",
    "    if m[0] == 'forward': pos[0] += int(m[1])\n",
    "    elif m[0] == 'down': pos[1] += int(m[1])\n",
    "    else: pos[1] -= int(m[1])\n",
    "print(pos)\n",
    "print(pos[0]*pos[1])"
   ]
  },
  {
   "cell_type": "code",
   "execution_count": 6,
   "metadata": {},
   "outputs": [
    {
     "name": "stdout",
     "output_type": "stream",
     "text": [
      "[1944, 954969, 1049]\n",
      "1856459736\n"
     ]
    }
   ],
   "source": [
    "pos = [0, 0, 0]\n",
    "for m in arr:\n",
    "    if m[0] == 'forward': \n",
    "        pos[0] += int(m[1])\n",
    "        pos[1] += (pos[2] * int(m[1]))\n",
    "    elif m[0] == 'down': pos[2] += int(m[1])\n",
    "    else: pos[2] -= int(m[1])\n",
    "print(pos)\n",
    "print(pos[0]*pos[1])"
   ]
  },
  {
   "cell_type": "code",
   "execution_count": null,
   "metadata": {},
   "outputs": [],
   "source": []
  }
 ],
 "metadata": {
  "kernelspec": {
   "display_name": "Python 3",
   "language": "python",
   "name": "python3"
  },
  "language_info": {
   "codemirror_mode": {
    "name": "ipython",
    "version": 3
   },
   "file_extension": ".py",
   "mimetype": "text/x-python",
   "name": "python",
   "nbconvert_exporter": "python",
   "pygments_lexer": "ipython3",
   "version": "3.8.3"
  }
 },
 "nbformat": 4,
 "nbformat_minor": 2
}
