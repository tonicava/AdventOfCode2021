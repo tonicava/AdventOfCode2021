{
 "cells": [
  {
   "cell_type": "code",
   "execution_count": 1,
   "metadata": {},
   "outputs": [],
   "source": [
    "import numpy as np\n",
    "from collections import Counter\n",
    "import pandas as pd"
   ]
  },
  {
   "cell_type": "code",
   "execution_count": 10,
   "metadata": {},
   "outputs": [
    {
     "name": "stdout",
     "output_type": "stream",
     "text": [
      "[331]\n",
      "1930\n",
      "0\n",
      "333755\n"
     ]
    }
   ],
   "source": [
    "with open(\"07/input.txt\") as f:\n",
    "    for line in f:\n",
    "        crabs = [int(x) for x in line.split(',')]\n",
    "\n",
    "crabs = sorted(crabs)\n",
    "n = len(crabs)\n",
    "if n%2 == 0: md = (crabs[n//2-1] + crabs[n//2])/2\n",
    "else: md = crabs[n//2]\n",
    "    \n",
    "if md != int(md): mdv = [int(md), int(md) + 1]\n",
    "else: mdv = [int(md)]\n",
    "    \n",
    "print(mdv)\n",
    "print(max(crabs))\n",
    "print(min(crabs))\n",
    "\n",
    "res = 2**10000\n",
    "for m in mdv:\n",
    "    s = sum([abs(c - m) for c in crabs])\n",
    "    if s < res: res = s\n",
    "print(res)"
   ]
  },
  {
   "cell_type": "code",
   "execution_count": 12,
   "metadata": {},
   "outputs": [
    {
     "name": "stdout",
     "output_type": "stream",
     "text": [
      "94017638\n"
     ]
    }
   ],
   "source": [
    "with open(\"07/input.txt\") as f:\n",
    "    for line in f:\n",
    "        crabs = [int(x) for x in line.split(',')]\n",
    "\n",
    "crabs = sorted(crabs)\n",
    "n = len(crabs)\n",
    "\n",
    "M = max(crabs)\n",
    "m = min(crabs)\n",
    "    \n",
    "res = 2**10000\n",
    "for i in range(m, M+1):\n",
    "    s = sum([abs(c-i)*(abs(c-i)+1)//2 for c in crabs])\n",
    "    if s < res: res = s\n",
    "print(res)"
   ]
  }
 ],
 "metadata": {
  "kernelspec": {
   "display_name": "Python 3",
   "language": "python",
   "name": "python3"
  },
  "language_info": {
   "codemirror_mode": {
    "name": "ipython",
    "version": 3
   },
   "file_extension": ".py",
   "mimetype": "text/x-python",
   "name": "python",
   "nbconvert_exporter": "python",
   "pygments_lexer": "ipython3",
   "version": "3.8.3"
  }
 },
 "nbformat": 4,
 "nbformat_minor": 2
}
